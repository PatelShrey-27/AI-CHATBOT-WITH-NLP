{
 "cells": [
  {
   "cell_type": "code",
   "execution_count": 12,
   "id": "63946a2a-6cda-49bb-bdc1-8be1b012715e",
   "metadata": {},
   "outputs": [
    {
     "name": "stdout",
     "output_type": "stream",
     "text": [
      "Chatbot: Hello! Type 'quit' to end the conversation.\n"
     ]
    },
    {
     "name": "stdin",
     "output_type": "stream",
     "text": [
      "You:  hii\n"
     ]
    },
    {
     "name": "stdout",
     "output_type": "stream",
     "text": [
      "Chatbot: What's your name?\n"
     ]
    },
    {
     "name": "stdin",
     "output_type": "stream",
     "text": [
      "You:  alice\n"
     ]
    },
    {
     "name": "stdout",
     "output_type": "stream",
     "text": [
      "Chatbot: Nice to meet you, alice!\n"
     ]
    },
    {
     "name": "stdin",
     "output_type": "stream",
     "text": [
      "You:  tell me a joke\n"
     ]
    },
    {
     "name": "stdout",
     "output_type": "stream",
     "text": [
      "Chatbot: Why don't skeletons fight each other? They don't have the guts!\n"
     ]
    },
    {
     "name": "stdin",
     "output_type": "stream",
     "text": [
      "You:  quit\n"
     ]
    },
    {
     "name": "stdout",
     "output_type": "stream",
     "text": [
      "Chatbot: See you later!\n"
     ]
    }
   ],
   "source": [
    "import nltk\n",
    "import random\n",
    "from nltk.chat.util import Chat, reflections\n",
    "\n",
    "class InteractiveChatbot(Chat):\n",
    "    def __init__(self, pairs, reflections):\n",
    "        super().__init__(pairs, reflections)\n",
    "        self.user_name = None\n",
    "        self.awaiting_name = False\n",
    "\n",
    "    def respond(self, user_input):\n",
    "        user_input = user_input.strip()\n",
    "\n",
    "        if self.awaiting_name:\n",
    "            self.user_name = user_input\n",
    "            self.awaiting_name = False\n",
    "            return f\"Nice to meet you, {self.user_name}!\"\n",
    "\n",
    "        if self.user_name is None:\n",
    "            self.awaiting_name = True\n",
    "            return \"What's your name?\"\n",
    "\n",
    "\n",
    "        if \"hi\" in user_input.lower() or \"hello\" in user_input.lower():\n",
    "            return f\"Hello {self.user_name}! How can I assist you today?\"\n",
    "\n",
    "        response = super().respond(user_input)\n",
    "        return response\n",
    "\n",
    "pairs = [\n",
    "    (r\"hi|hello|hey\", [\"Hello!\", \"Hi there!\", \"Hey!\"]),\n",
    "    (r\"how are you\\??\", [\"I'm good, how are you?\", \"I'm doing well, thank you!\"]),\n",
    "    (r\"what is your name\\??\", [\"I am a chatbot created with NLTK.\", \"You can call me Chatbot!\"]),\n",
    "    (r\"what can you do\\??\", [\"I can answer your questions and chat with you!\", \"I can talk with you about various topics.\"]),\n",
    "    (r\"how old are you\\??\", [\"I am ageless, as I am just a chatbot.\", \"I don't have an age like humans do.\"]),\n",
    "    (r\"where are you from\\??\", [\"I am from the internet, created to help you.\", \"I exist wherever there's a computer!\"]),\n",
    "    (r\"tell me a joke\", [\"Why don't skeletons fight each other? They don't have the guts!\", \"What do you call fake spaghetti? An impasta!\"]),\n",
    "    (r\"what's your favorite color\\??\", [\"I like all colors, but blue is calming!\", \"I think green is peaceful.\"]),\n",
    "    (r\"what's the weather like today\\??\", [\"I'm sorry, I can't check the weather right now.\", \"I can't provide live weather updates.\"]),\n",
    "    (r\"quit\", [\"Goodbye!\", \"See you later!\"]),\n",
    "    (r\"(.*)\", [\"I'm sorry, I didn't quite understand that.\"])\n",
    "]\n",
    "\n",
    "chatbot = InteractiveChatbot(pairs, reflections)\n",
    "\n",
    "print(\"Chatbot: Hello! Type 'quit' to end the conversation.\")\n",
    "while True:\n",
    "    user_input = input(\"You: \")\n",
    "    response = chatbot.respond(user_input)\n",
    "    print(\"Chatbot:\", response)\n",
    "    if user_input.lower() == \"quit\":\n",
    "        break\n"
   ]
  },
  {
   "cell_type": "code",
   "execution_count": null,
   "id": "ef408ad4-20c7-4399-aa9c-61372b48c47c",
   "metadata": {},
   "outputs": [],
   "source": []
  }
 ],
 "metadata": {
  "kernelspec": {
   "display_name": "Python 3 (ipykernel)",
   "language": "python",
   "name": "python3"
  },
  "language_info": {
   "codemirror_mode": {
    "name": "ipython",
    "version": 3
   },
   "file_extension": ".py",
   "mimetype": "text/x-python",
   "name": "python",
   "nbconvert_exporter": "python",
   "pygments_lexer": "ipython3",
   "version": "3.12.3"
  }
 },
 "nbformat": 4,
 "nbformat_minor": 5
}
